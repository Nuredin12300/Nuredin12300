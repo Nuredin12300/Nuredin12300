{
 "cells": [
  {
   "cell_type": "code",
   "execution_count": 1,
   "metadata": {},
   "outputs": [
    {
     "name": "stdout",
     "output_type": "stream",
     "text": [
      "Enter the first topic:_A\n",
      "Enter the second topic:_B\n",
      "Enter the third topic:_C\n",
      "Enter the fourth topic:_D\n",
      "Enter the fifth topic:_E\n",
      "\n",
      "\n",
      "Group 1 about D\n",
      "Group 2 about E\n",
      "Group 3 about B\n",
      "Group 4 about C\n",
      "Group 5 about A\n"
     ]
    }
   ],
   "source": [
    "import random\n",
    "a = []\n",
    "t=input(\"Enter the first topic:_\")\n",
    "a.append(t)\n",
    "ti=input(\"Enter the second topic:_\")\n",
    "while t == ti:\n",
    "    print(\"\"\"\n",
    "    \"\"\")\n",
    "    print(\"Enter another word. You already use it.\")\n",
    "    ti=input(\"Enter the second topic:_\")\n",
    "a.append(ti)\n",
    "tii=input(\"Enter the third topic:_\")\n",
    "while t == tii or ti==tii:\n",
    "    print(\"\"\"\n",
    "    \"\"\")\n",
    "    print(\"Enter another word. You already use it.\")\n",
    "    tii=input(\"Enter the third topic:_\")\n",
    "a.append(tii)\n",
    "tiii=input(\"Enter the fourth topic:_\")\n",
    "while t == tiii or ti==tiii or tii==tiii:\n",
    "    print(\"\"\"\n",
    "    \"\"\")\n",
    "    print(\"Enter another word. You already use it.\")\n",
    "    tiii=input(\"Enter the fourth topic:_\")\n",
    "a.append(tiii)\n",
    "tiiii=input(\"Enter the fifth topic:_\")\n",
    "while t == tiiii or ti==tiiii or tii==tiiii or tiii==tiiii:\n",
    "    print(\"\"\"\n",
    "    \"\"\")\n",
    "    print(\"Enter another word. You already use it.\")\n",
    "    tiiii=input(\"Enter the fifth topic:_\")\n",
    "a.append(tiiii)\n",
    "print(\"\"\"\n",
    "\"\"\")\n",
    "\n",
    "gr=[\"1\",\"2\",\"3\",\"4\",\"5\"]\n",
    "b=0\n",
    "\n",
    "r = random.randint(0,4)\n",
    "c=r\n",
    "d = \"Group \" + str(gr[b])\n",
    "x = a[r]\n",
    "print(d + \" about \" + str(x))\n",
    "b+=1\n",
    "while c==r:\n",
    "    r = random.randint(0,4)\n",
    "d = \"Group \" + str(gr[b])\n",
    "x = a[r]\n",
    "e=r\n",
    "print(d + \" about \" + str(x))\n",
    "b +=1\n",
    "while c==r or e==r:\n",
    "    r = random.randint(0,4)\n",
    "d = \"Group \" + str(gr[b])\n",
    "x = a[r]\n",
    "f=r\n",
    "print(d + \" about \" + str(x))\n",
    "b+=1\n",
    "while c==r or e==r or f==r:\n",
    "    r = random.randint(0,4)\n",
    "d = \"Group \" + str(gr[b])\n",
    "x = a[r]\n",
    "g=r\n",
    "print(d + \" about \" + str(x))\n",
    "b+=1\n",
    "while c==r or e==r or f==r or g==r:\n",
    "    r = random.randint(0,4)\n",
    "d = \"Group \" + str(gr[b])\n",
    "x = a[r]\n",
    "h=r\n",
    "print(d + \" about \" + str(x))"
   ]
  },
  {
   "cell_type": "code",
   "execution_count": 3,
   "metadata": {},
   "outputs": [
    {
     "name": "stdout",
     "output_type": "stream",
     "text": [
      "Copy and paste a paragraph:_Nuredin is good but\n",
      "\n",
      "\n",
      "The corrected one is\n",
      "\n",
      "Nuredin is good but.\n"
     ]
    }
   ],
   "source": [
    "\n",
    "x = input(\"Copy and paste a paragraph:_\")\n",
    "y = x.split(\".\")\n",
    "a = int(len(y))\n",
    "b = 0\n",
    "d = \"\"\n",
    "for i in range(a):\n",
    "    c = y[b]\n",
    "    d+=c\n",
    "    if b < a-2:\n",
    "        b+=1\n",
    "        d+=y[b][0].upper()\n",
    "        d+=\".\"\n",
    "    else:\n",
    "        d+=\".\"\n",
    "print(\"\"\"\n",
    "\"\"\")        \n",
    "print(\"\"\"The corrected one is\n",
    "\"\"\")        \n",
    "print(d)"
   ]
  },
  {
   "cell_type": "code",
   "execution_count": null,
   "metadata": {},
   "outputs": [],
   "source": []
  }
 ],
 "metadata": {
  "kernelspec": {
   "display_name": "Python 3 (ipykernel)",
   "language": "python",
   "name": "python3"
  },
  "language_info": {
   "codemirror_mode": {
    "name": "ipython",
    "version": 3
   },
   "file_extension": ".py",
   "mimetype": "text/x-python",
   "name": "python",
   "nbconvert_exporter": "python",
   "pygments_lexer": "ipython3",
   "version": "3.9.10+"
  }
 },
 "nbformat": 4,
 "nbformat_minor": 2
}
